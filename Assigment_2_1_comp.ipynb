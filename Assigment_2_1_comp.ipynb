{
 "cells": [
  {
   "cell_type": "code",
   "execution_count": 2,
   "metadata": {},
   "outputs": [],
   "source": [
    "# импортируем нужные библиотеки и модули\n",
    "import os\n",
    "import numpy\n",
    "import math\n",
    "from scipy import integrate, linalg\n",
    "from matplotlib import pyplot\n",
    "\n",
    "# вставляем графику в блокнот\n",
    "%matplotlib inline"
   ]
  },
  {
   "cell_type": "code",
   "execution_count": 3,
   "metadata": {},
   "outputs": [],
   "source": [
    "class Panel:\n",
    "    def __init__(self, xa, ya, xb, yb):\n",
    "        self.xa, self.ya = xa, ya\n",
    "        self.xb, self.yb = xb, yb\n",
    "        self.xc, self.yc = (xa+xb)/2, (ya+yb)/2\n",
    "        self.length = math.sqrt((xb-xa)**2+(yb-ya)**2)\n",
    "        \n",
    "        if xb-xa <= 0.0:\n",
    "            self.beta = math.acos((yb-ya)/self.length)\n",
    "        else:\n",
    "            self.beta = math.pi + math.acos(-(yb-ya)/self.length)\n",
    "            \n",
    "        if self.beta <= math.pi:\n",
    "            self.loc = 'upper'\n",
    "        else:\n",
    "            self.loc = 'lower'\n",
    "            \n",
    "        self.sigma = 0.                         # интенсивность источника\n",
    "        self.vt = 0.                            # касательная скорость\n",
    "        self.cp = 0. \n",
    "        self.gamma = 0."
   ]
  },
  {
   "cell_type": "code",
   "execution_count": 4,
   "metadata": {},
   "outputs": [],
   "source": [
    "def define_panels(x,y,N):\n",
    "    \n",
    "    panels = numpy.empty(N, dtype=object)\n",
    "    for i in range(N):\n",
    "        panels[i] = Panel(x[i], y[i], x[i+1], y[i+1])\n",
    "     \n",
    "    return panels"
   ]
  },
  {
   "cell_type": "code",
   "execution_count": 5,
   "metadata": {},
   "outputs": [],
   "source": [
    "class Freestream:\n",
    "   \n",
    "    def __init__(self, u_inf=1.0, alpha=0.0):\n",
    "        \n",
    "        self.u_inf = u_inf\n",
    "        self.alpha = alpha*numpy.pi/180.0 # градусы в радианы"
   ]
  },
  {
   "cell_type": "code",
   "execution_count": 6,
   "metadata": {},
   "outputs": [],
   "source": [
    "def integral(x, y, panel, dxdk, dydk):\n",
    "    \n",
    "    def integrand(s):\n",
    "        return ( ((x - (panel.xa - numpy.sin(panel.beta)*s))*dxdk\n",
    "                  +(y - (panel.ya + numpy.cos(panel.beta)*s))*dydk)\n",
    "                / ((x - (panel.xa - numpy.sin(panel.beta)*s))**2\n",
    "                   +(y - (panel.ya + numpy.cos(panel.beta)*s))**2) )\n",
    "    return integrate.quad(integrand, 0.0, panel.length)[0]"
   ]
  },
  {
   "cell_type": "code",
   "execution_count": 7,
   "metadata": {},
   "outputs": [],
   "source": [
    "def source_contribution_normal(panels):\n",
    "    \n",
    "    A = numpy.empty((panels.size, panels.size), dtype=float)\n",
    "    # вклад рассматриваемой панели в общее поле источников\n",
    "    numpy.fill_diagonal(A, 0.5)\n",
    "    # вклад остальных панелей\n",
    "    for i, panel_i in enumerate(panels):\n",
    "        for j, panel_j in enumerate(panels):\n",
    "            if i != j:\n",
    "                A[i, j] = 0.5/numpy.pi*integral(panel_i.xc, panel_i.yc, \n",
    "                                                panel_j,\n",
    "                                                numpy.cos(panel_i.beta),\n",
    "                                                numpy.sin(panel_i.beta))\n",
    "    return A"
   ]
  },
  {
   "cell_type": "code",
   "execution_count": 8,
   "metadata": {},
   "outputs": [],
   "source": [
    "def vortex_contribution_normal(panels):\n",
    "    \n",
    "    A = numpy.empty((panels.size, panels.size), dtype=float)\n",
    "    # вклад от рассматриваемой панели в поле вихря\n",
    "    numpy.fill_diagonal(A, 0.0)\n",
    "    # вихревой вклад от всех остальных панелей\n",
    "    for i, panel_i in enumerate(panels):\n",
    "        for j, panel_j in enumerate(panels):\n",
    "            if i != j:\n",
    "                A[i, j] = -0.5/numpy.pi*integral(panel_i.xc, panel_i.yc, \n",
    "                                                 panel_j,\n",
    "                                                 numpy.sin(panel_i.beta),\n",
    "                                                 -numpy.cos(panel_i.beta))\n",
    "    return A"
   ]
  },
  {
   "cell_type": "code",
   "execution_count": 9,
   "metadata": {},
   "outputs": [],
   "source": [
    "def kutta_condition(A_source, B_vortex, Na):\n",
    "\n",
    "    b = numpy.empty(shape = (2, A_source.shape[0]+2), dtype=float)\n",
    "    # матрица вкладов источников в тангенциальную составляющую скорости\n",
    "    # равна\n",
    "    # матрице вкладов вихрей в нормальную составляющую скорости\n",
    "    b[0, :-2] = B_vortex[0, :] + B_vortex[Na - 1, :]\n",
    "    b[1, :-2] = B_vortex[Na, :] + B_vortex[-1, :]\n",
    "    # матрица вкладов вихрей в тангенциальную составляющую скорости\n",
    "    # противоположна по знаку\n",
    "    # матрице вкладов источников в нормальную составляющую скорости\n",
    "    b[0, -2] = - numpy.sum(A_source[0, 0:Na] + A_source[Na-1, 0:Na])\n",
    "    b[0, -1] = - numpy.sum(A_source[0, Na:] + A_source[Na-1, Na:])\n",
    "    b[1, -2] = - numpy.sum(A_source[Na, 0:Na] + A_source[-1, 0:Na])\n",
    "    b[1, -1] = - numpy.sum(A_source[Na, Na:] + A_source[-1, Na:])\n",
    "    return b"
   ]
  },
  {
   "cell_type": "code",
   "execution_count": 10,
   "metadata": {},
   "outputs": [],
   "source": [
    "def build_singularity_matrix(A_source, B_vortex, Na):\n",
    "\n",
    "    A = numpy.empty((A_source.shape[0]+2, A_source.shape[1]+2), \\\n",
    "                    dtype=float)\n",
    "    # матрица источников\n",
    "    A[:-2, :-2] = A_source\n",
    "    # матрица вихрей\n",
    "    A[:-2, -2] = numpy.sum(B_vortex[:, 0:Na], axis=1)\n",
    "    A[:-2, -1] = numpy.sum(B_vortex[:, Na:], axis=1)\n",
    "    # условие Кутты-Жуковского\n",
    "    A[-2:, :] = kutta_condition(A_source, B_vortex, Na)\n",
    "    return A"
   ]
  },
  {
   "cell_type": "code",
   "execution_count": 11,
   "metadata": {},
   "outputs": [],
   "source": [
    "def build_freestream_rhs(panels, panels_f, freestream):\n",
    "   \n",
    "    b = numpy.empty(panels.size + panels_f.size + 2,dtype=float)\n",
    "    # вклад от набегающего потока в каждую панель\n",
    "    for i, panel in enumerate(numpy.append(panels, panels_f)):\n",
    "        b[i] = -freestream.u_inf * numpy.cos(freestream.alpha - panel.beta)\n",
    "    # вклад от набегающего потока в условие Кутты-Жуковского\n",
    "    b[-2] = -freestream.u_inf*( numpy.sin(freestream.alpha-panels[0].beta)\n",
    "                               +numpy.sin(freestream.alpha-panels[-1].beta) ) #предпоследняя ячейка для крыла\n",
    "    b[-1] = -freestream.u_inf*( numpy.sin(freestream.alpha-panels_f[0].beta)\n",
    "                               +numpy.sin(freestream.alpha-panels_f[-1].beta) ) #последняя ячейка для закрылка\n",
    "    return b"
   ]
  },
  {
   "cell_type": "code",
   "execution_count": 12,
   "metadata": {},
   "outputs": [],
   "source": [
    "def compute_tangential_velocity(panels, panels_f, freestream, gamma, gamma_f, A_source, B_vortex, Na, Nb):\n",
    "\n",
    "    A = numpy.empty( (Na + Nb, Na + Nb + 2), dtype=float)\n",
    "    # матрица вкладов источников в тангенциальную составляющую скорости\n",
    "    # равна\n",
    "    # матрице вкладов вихрей в нормальную составляющую скорости\n",
    "    A[:, :-2] = B_vortex\n",
    "    # матрица вкладов вихрей в тангенциальную составляющую скорости\n",
    "    # противоположна по знаку\n",
    "    # матрице вкладов источников в нормальную составляющую скорости\n",
    "    A[:, -2] = -numpy.sum(A_source[:, 0:Na], axis=1)\n",
    "    A[:, -1] = -numpy.sum(A_source[:, Na:], axis=1)\n",
    "    # добавляем набегающий поток\n",
    "    panels_common = numpy.append(panels, panels_f)\n",
    "    \n",
    "    b = freestream.u_inf*numpy.sin([freestream.alpha-panel.beta for panel in panels_common])\n",
    "    \n",
    "    strengths = numpy.append([panel.sigma for panel in panels_common], [gamma, gamma_f])\n",
    "    \n",
    "    tangential_velocities = numpy.dot(A, strengths) + b\n",
    "    \n",
    "    for i, panel in enumerate(panels_common):\n",
    "        panel.vt = tangential_velocities[i]"
   ]
  },
  {
   "cell_type": "code",
   "execution_count": 13,
   "metadata": {},
   "outputs": [],
   "source": [
    "def compute_pressure_coefficient(panels, panels_f, freestream):\n",
    " \n",
    "    panels_common = numpy.append(panels, panels_f)\n",
    "    \n",
    "    for panel in panels_common:\n",
    "        panel.cp = 1.0 - (panel.vt/freestream.u_inf)**2"
   ]
  },
  {
   "cell_type": "code",
   "execution_count": 14,
   "metadata": {},
   "outputs": [],
   "source": [
    "filepath = os.path.join('NACA23012_MainFoil.csv')\n",
    "with open(filepath, 'r') as infile:\n",
    "    x_m_new, y_m_new = numpy.loadtxt(infile, dtype=float, delimiter=',',unpack=True)\n",
    "\n",
    "filepath_f = os.path.join('NACA23012_FlapFoil.csv')\n",
    "with open(filepath_f, 'r') as infile:\n",
    "    x_f, y_f = numpy.loadtxt(infile, dtype=float, delimiter=',',unpack=True)"
   ]
  },
  {
   "cell_type": "code",
   "execution_count": 15,
   "metadata": {},
   "outputs": [],
   "source": [
    "z_f = x_f + 1j*y_f\n",
    "z_0 = 1.03 + 1j*0.054\n",
    "\n",
    "z = (z_f - z_0)*numpy.exp(-20/180*numpy.pi*1j) + z_0\n",
    "\n",
    "x_f_new = z.real\n",
    "y_f_new = z.imag"
   ]
  },
  {
   "cell_type": "code",
   "execution_count": 16,
   "metadata": {},
   "outputs": [],
   "source": [
    "def once_more (x_m, y_m, x_f, y_f, freestream):\n",
    "    panels_m = define_panels(x_m, y_m, 150)\n",
    "    panels_f = define_panels(x_f, y_f, 150)\n",
    "\n",
    "    N_m = len(panels_m)\n",
    "    N_f = len(panels_f)\n",
    "\n",
    "    A_source = source_contribution_normal(numpy.append(panels_m, panels_f))\n",
    "    B_vortex = vortex_contribution_normal(numpy.append(panels_m, panels_f))\n",
    "    \n",
    "    A = build_singularity_matrix(A_source, B_vortex, len(x_m) - 1)\n",
    "    b = build_freestream_rhs(panels_m, panels_f, freestream)\n",
    "    \n",
    "    # рассчитываем интенсивности источников и вихря\n",
    "    strengths = numpy.linalg.solve(A, b)    \n",
    "\n",
    "    # заполняем интенсивности на кажой панели\n",
    "    for i , panel in enumerate(panels_m):\n",
    "        panel.sigma = strengths[i]\n",
    "    for i , panel in enumerate(panels_f):\n",
    "        panel.sigma = strengths[i+N_f]\n",
    "\n",
    "    # запоминаем циркуляцию\n",
    "    gamma_m = strengths[-2]\n",
    "    gamma_f = strengths[-1]\n",
    "    \n",
    "    # касательная компонента скорости на каждой панели\n",
    "    compute_tangential_velocity(panels_m, panels_f, freestream, gamma_m, gamma_f, A_source, B_vortex, N_m, N_f)\n",
    "    \n",
    "    # коэффициент давления на поверхности\n",
    "    compute_pressure_coefficient(panels_m, panels_f, freestream)\n",
    "    \n",
    "    F_x = 0\n",
    "    F_y = 0\n",
    "    for p in numpy.append(panels_m, panels_f):\n",
    "        F_x += -p.cp*p.length*numpy.cos(p.beta)\n",
    "        F_y += -p.cp*p.length*numpy.sin(p.beta)\n",
    "\n",
    "\n",
    "    l = abs(max(x_m) - min(x_m))\n",
    "    #C_x = F_x/l*numpy.cos(freestream.alpha/180*numpy.pi) + F_y/l*numpy.sin(freestream.alpha/180*numpy.pi)\n",
    "    C_y = F_y/l*numpy.cos(freestream.alpha/180*numpy.pi) - F_x/l*numpy.sin(freestream.alpha/180*numpy.pi)\n",
    "    \n",
    "    return C_y"
   ]
  },
  {
   "cell_type": "code",
   "execution_count": null,
   "metadata": {},
   "outputs": [],
   "source": []
  },
  {
   "cell_type": "code",
   "execution_count": 17,
   "metadata": {},
   "outputs": [
    {
     "data": {
      "text/plain": [
       "1.4673478434215226"
      ]
     },
     "execution_count": 17,
     "metadata": {},
     "output_type": "execute_result"
    }
   ],
   "source": [
    "angle = 20.0*numpy.pi/180 \n",
    "freestream = Freestream(1, 0)\n",
    "C_y = once_more(x_m_new, y_m_new, x_f_new, y_f_new, freestream)\n",
    "    \n",
    "C_y  "
   ]
  },
  {
   "cell_type": "code",
   "execution_count": 34,
   "metadata": {},
   "outputs": [
    {
     "name": "stdout",
     "output_type": "stream",
     "text": [
      "1.4673478434215226\n",
      " a = -14  b = 0.0\n",
      "0.5194012477715335\n",
      " a = -14  b = -7.0\n",
      "0.046524329613546175\n",
      " a = -14  b = -10.5\n",
      "-0.18662523174482032\n",
      " a = -12.25  b = -10.5\n",
      "-0.07041340708606283\n",
      " a = -11.375  b = -10.5\n",
      "-0.012028650893449778\n",
      " a = -10.9375  b = -10.5\n"
     ]
    },
    {
     "ename": "KeyboardInterrupt",
     "evalue": "",
     "output_type": "error",
     "traceback": [
      "\u001b[1;31m---------------------------------------------------------------------------\u001b[0m",
      "\u001b[1;31mKeyboardInterrupt\u001b[0m                         Traceback (most recent call last)",
      "\u001b[1;32m<ipython-input-34-fa76a4bc37d7>\u001b[0m in \u001b[0;36m<module>\u001b[1;34m()\u001b[0m\n\u001b[0;32m     11\u001b[0m \u001b[1;33m\u001b[0m\u001b[0m\n\u001b[0;32m     12\u001b[0m     \u001b[0mfreestream\u001b[0m \u001b[1;33m=\u001b[0m \u001b[0mFreestream\u001b[0m\u001b[1;33m(\u001b[0m\u001b[0mu_inf\u001b[0m\u001b[1;33m,\u001b[0m \u001b[0mangle_mid\u001b[0m\u001b[1;33m)\u001b[0m\u001b[1;33m\u001b[0m\u001b[0m\n\u001b[1;32m---> 13\u001b[1;33m     \u001b[0mC_y\u001b[0m \u001b[1;33m=\u001b[0m \u001b[0monce_more\u001b[0m\u001b[1;33m(\u001b[0m\u001b[0mx_m_new\u001b[0m\u001b[1;33m,\u001b[0m \u001b[0my_m_new\u001b[0m\u001b[1;33m,\u001b[0m \u001b[0mx_f_new\u001b[0m\u001b[1;33m,\u001b[0m \u001b[0my_f_new\u001b[0m\u001b[1;33m,\u001b[0m \u001b[0mfreestream\u001b[0m\u001b[1;33m)\u001b[0m\u001b[1;33m\u001b[0m\u001b[0m\n\u001b[0m\u001b[0;32m     14\u001b[0m \u001b[1;33m\u001b[0m\u001b[0m\n\u001b[0;32m     15\u001b[0m     \u001b[0mprint\u001b[0m\u001b[1;33m(\u001b[0m\u001b[0mC_y\u001b[0m\u001b[1;33m)\u001b[0m\u001b[1;33m\u001b[0m\u001b[0m\n",
      "\u001b[1;32m<ipython-input-32-3aa21fa106c5>\u001b[0m in \u001b[0;36monce_more\u001b[1;34m(x_m, y_m, x_f, y_f, freestream)\u001b[0m\n\u001b[0;32m      6\u001b[0m     \u001b[0mN_f\u001b[0m \u001b[1;33m=\u001b[0m \u001b[0mlen\u001b[0m\u001b[1;33m(\u001b[0m\u001b[0mpanels_f\u001b[0m\u001b[1;33m)\u001b[0m\u001b[1;33m\u001b[0m\u001b[0m\n\u001b[0;32m      7\u001b[0m \u001b[1;33m\u001b[0m\u001b[0m\n\u001b[1;32m----> 8\u001b[1;33m     \u001b[0mA_source\u001b[0m \u001b[1;33m=\u001b[0m \u001b[0msource_contribution_normal\u001b[0m\u001b[1;33m(\u001b[0m\u001b[0mnumpy\u001b[0m\u001b[1;33m.\u001b[0m\u001b[0mappend\u001b[0m\u001b[1;33m(\u001b[0m\u001b[0mpanels_m\u001b[0m\u001b[1;33m,\u001b[0m \u001b[0mpanels_f\u001b[0m\u001b[1;33m)\u001b[0m\u001b[1;33m)\u001b[0m\u001b[1;33m\u001b[0m\u001b[0m\n\u001b[0m\u001b[0;32m      9\u001b[0m     \u001b[0mB_vortex\u001b[0m \u001b[1;33m=\u001b[0m \u001b[0mvortex_contribution_normal\u001b[0m\u001b[1;33m(\u001b[0m\u001b[0mnumpy\u001b[0m\u001b[1;33m.\u001b[0m\u001b[0mappend\u001b[0m\u001b[1;33m(\u001b[0m\u001b[0mpanels_m\u001b[0m\u001b[1;33m,\u001b[0m \u001b[0mpanels_f\u001b[0m\u001b[1;33m)\u001b[0m\u001b[1;33m)\u001b[0m\u001b[1;33m\u001b[0m\u001b[0m\n\u001b[0;32m     10\u001b[0m \u001b[1;33m\u001b[0m\u001b[0m\n",
      "\u001b[1;32m<ipython-input-19-8769d5e41613>\u001b[0m in \u001b[0;36msource_contribution_normal\u001b[1;34m(panels)\u001b[0m\n\u001b[0;32m     11\u001b[0m                                                 \u001b[0mpanel_j\u001b[0m\u001b[1;33m,\u001b[0m\u001b[1;33m\u001b[0m\u001b[0m\n\u001b[0;32m     12\u001b[0m                                                 \u001b[0mnumpy\u001b[0m\u001b[1;33m.\u001b[0m\u001b[0mcos\u001b[0m\u001b[1;33m(\u001b[0m\u001b[0mpanel_i\u001b[0m\u001b[1;33m.\u001b[0m\u001b[0mbeta\u001b[0m\u001b[1;33m)\u001b[0m\u001b[1;33m,\u001b[0m\u001b[1;33m\u001b[0m\u001b[0m\n\u001b[1;32m---> 13\u001b[1;33m                                                 numpy.sin(panel_i.beta))\n\u001b[0m\u001b[0;32m     14\u001b[0m     \u001b[1;32mreturn\u001b[0m \u001b[0mA\u001b[0m\u001b[1;33m\u001b[0m\u001b[0m\n",
      "\u001b[1;32m<ipython-input-18-7cb50c4bbe2d>\u001b[0m in \u001b[0;36mintegral\u001b[1;34m(x, y, panel, dxdk, dydk)\u001b[0m\n\u001b[0;32m      6\u001b[0m                 / ((x - (panel.xa - numpy.sin(panel.beta)*s))**2\n\u001b[0;32m      7\u001b[0m                    +(y - (panel.ya + numpy.cos(panel.beta)*s))**2) )\n\u001b[1;32m----> 8\u001b[1;33m     \u001b[1;32mreturn\u001b[0m \u001b[0mintegrate\u001b[0m\u001b[1;33m.\u001b[0m\u001b[0mquad\u001b[0m\u001b[1;33m(\u001b[0m\u001b[0mintegrand\u001b[0m\u001b[1;33m,\u001b[0m \u001b[1;36m0.0\u001b[0m\u001b[1;33m,\u001b[0m \u001b[0mpanel\u001b[0m\u001b[1;33m.\u001b[0m\u001b[0mlength\u001b[0m\u001b[1;33m)\u001b[0m\u001b[1;33m[\u001b[0m\u001b[1;36m0\u001b[0m\u001b[1;33m]\u001b[0m\u001b[1;33m\u001b[0m\u001b[0m\n\u001b[0m",
      "\u001b[1;32m~\\Anaconda3\\lib\\site-packages\\scipy\\integrate\\quadpack.py\u001b[0m in \u001b[0;36mquad\u001b[1;34m(func, a, b, args, full_output, epsabs, epsrel, limit, points, weight, wvar, wopts, maxp1, limlst)\u001b[0m\n\u001b[0;32m    339\u001b[0m     \u001b[1;32mif\u001b[0m \u001b[0mweight\u001b[0m \u001b[1;32mis\u001b[0m \u001b[1;32mNone\u001b[0m\u001b[1;33m:\u001b[0m\u001b[1;33m\u001b[0m\u001b[0m\n\u001b[0;32m    340\u001b[0m         retval = _quad(func, a, b, args, full_output, epsabs, epsrel, limit,\n\u001b[1;32m--> 341\u001b[1;33m                        points)\n\u001b[0m\u001b[0;32m    342\u001b[0m     \u001b[1;32melse\u001b[0m\u001b[1;33m:\u001b[0m\u001b[1;33m\u001b[0m\u001b[0m\n\u001b[0;32m    343\u001b[0m         retval = _quad_weight(func, a, b, args, full_output, epsabs, epsrel,\n",
      "\u001b[1;32m~\\Anaconda3\\lib\\site-packages\\scipy\\integrate\\quadpack.py\u001b[0m in \u001b[0;36m_quad\u001b[1;34m(func, a, b, args, full_output, epsabs, epsrel, limit, points)\u001b[0m\n\u001b[0;32m    446\u001b[0m     \u001b[1;32mif\u001b[0m \u001b[0mpoints\u001b[0m \u001b[1;32mis\u001b[0m \u001b[1;32mNone\u001b[0m\u001b[1;33m:\u001b[0m\u001b[1;33m\u001b[0m\u001b[0m\n\u001b[0;32m    447\u001b[0m         \u001b[1;32mif\u001b[0m \u001b[0minfbounds\u001b[0m \u001b[1;33m==\u001b[0m \u001b[1;36m0\u001b[0m\u001b[1;33m:\u001b[0m\u001b[1;33m\u001b[0m\u001b[0m\n\u001b[1;32m--> 448\u001b[1;33m             \u001b[1;32mreturn\u001b[0m \u001b[0m_quadpack\u001b[0m\u001b[1;33m.\u001b[0m\u001b[0m_qagse\u001b[0m\u001b[1;33m(\u001b[0m\u001b[0mfunc\u001b[0m\u001b[1;33m,\u001b[0m\u001b[0ma\u001b[0m\u001b[1;33m,\u001b[0m\u001b[0mb\u001b[0m\u001b[1;33m,\u001b[0m\u001b[0margs\u001b[0m\u001b[1;33m,\u001b[0m\u001b[0mfull_output\u001b[0m\u001b[1;33m,\u001b[0m\u001b[0mepsabs\u001b[0m\u001b[1;33m,\u001b[0m\u001b[0mepsrel\u001b[0m\u001b[1;33m,\u001b[0m\u001b[0mlimit\u001b[0m\u001b[1;33m)\u001b[0m\u001b[1;33m\u001b[0m\u001b[0m\n\u001b[0m\u001b[0;32m    449\u001b[0m         \u001b[1;32melse\u001b[0m\u001b[1;33m:\u001b[0m\u001b[1;33m\u001b[0m\u001b[0m\n\u001b[0;32m    450\u001b[0m             \u001b[1;32mreturn\u001b[0m \u001b[0m_quadpack\u001b[0m\u001b[1;33m.\u001b[0m\u001b[0m_qagie\u001b[0m\u001b[1;33m(\u001b[0m\u001b[0mfunc\u001b[0m\u001b[1;33m,\u001b[0m\u001b[0mbound\u001b[0m\u001b[1;33m,\u001b[0m\u001b[0minfbounds\u001b[0m\u001b[1;33m,\u001b[0m\u001b[0margs\u001b[0m\u001b[1;33m,\u001b[0m\u001b[0mfull_output\u001b[0m\u001b[1;33m,\u001b[0m\u001b[0mepsabs\u001b[0m\u001b[1;33m,\u001b[0m\u001b[0mepsrel\u001b[0m\u001b[1;33m,\u001b[0m\u001b[0mlimit\u001b[0m\u001b[1;33m)\u001b[0m\u001b[1;33m\u001b[0m\u001b[0m\n",
      "\u001b[1;32m<ipython-input-18-7cb50c4bbe2d>\u001b[0m in \u001b[0;36mintegrand\u001b[1;34m(s)\u001b[0m\n\u001b[0;32m      5\u001b[0m                   +(y - (panel.ya + numpy.cos(panel.beta)*s))*dydk)\n\u001b[0;32m      6\u001b[0m                 / ((x - (panel.xa - numpy.sin(panel.beta)*s))**2\n\u001b[1;32m----> 7\u001b[1;33m                    +(y - (panel.ya + numpy.cos(panel.beta)*s))**2) )\n\u001b[0m\u001b[0;32m      8\u001b[0m     \u001b[1;32mreturn\u001b[0m \u001b[0mintegrate\u001b[0m\u001b[1;33m.\u001b[0m\u001b[0mquad\u001b[0m\u001b[1;33m(\u001b[0m\u001b[0mintegrand\u001b[0m\u001b[1;33m,\u001b[0m \u001b[1;36m0.0\u001b[0m\u001b[1;33m,\u001b[0m \u001b[0mpanel\u001b[0m\u001b[1;33m.\u001b[0m\u001b[0mlength\u001b[0m\u001b[1;33m)\u001b[0m\u001b[1;33m[\u001b[0m\u001b[1;36m0\u001b[0m\u001b[1;33m]\u001b[0m\u001b[1;33m\u001b[0m\u001b[0m\n",
      "\u001b[1;31mKeyboardInterrupt\u001b[0m: "
     ]
    }
   ],
   "source": [
    "angle_from = -14\n",
    "angle_to = 14\n",
    "\n",
    "eps = 0.01\n",
    "\n",
    "\n",
    "while abs(angle_from - angle_to) > eps:\n",
    "    \n",
    "    u_inf = 1.\n",
    "    angle_mid = (angle_from + angle_to)/2\n",
    "    \n",
    "    freestream = Freestream(u_inf, angle_mid)\n",
    "    C_y = once_more(x_m_new, y_m_new, x_f_new, y_f_new, freestream)\n",
    "        \n",
    "    print(C_y)\n",
    "    if C_y > 0:\n",
    "        angle_to = angle_mid\n",
    "    else:\n",
    "        angle_from = angle_mid\n",
    "    print(\" a =\",angle_from, \" b =\",angle_to)"
   ]
  },
  {
   "cell_type": "code",
   "execution_count": null,
   "metadata": {},
   "outputs": [],
   "source": []
  },
  {
   "cell_type": "code",
   "execution_count": 23,
   "metadata": {},
   "outputs": [],
   "source": [
    "x_c = 1.03\n",
    "y_c = -0.054\n",
    "angle_1 = 0.0\n",
    "angle_2 = -5.0*numpy.pi/180 \n",
    "angle_3 = -10.0*numpy.pi/180\n",
    "angle_4 = -15.0*numpy.pi/180\n",
    "\n",
    "x_f_new_1 = x_c + (x_f - x_c)*math.cos(angle_1) - (y_f - y_c)*math.sin(angle_1)\n",
    "y_f_new_1 = y_c + (x_f - x_c)*math.sin(angle_1) + (y_f - y_c)*math.cos(angle_1)\n",
    "\n",
    "x_f_new_2 = x_c + (x_f - x_c)*math.cos(angle_2) - (y_f - y_c)*math.sin(angle_2)\n",
    "y_f_new_2 = y_c + (x_f - x_c)*math.sin(angle_2) + (y_f - y_c)*math.cos(angle_2)\n",
    "\n",
    "x_f_new_3 = x_c + (x_f - x_c)*math.cos(angle_3) - (y_f - y_c)*math.sin(angle_3)\n",
    "y_f_new_3 = y_c + (x_f - x_c)*math.sin(angle_3) + (y_f - y_c)*math.cos(angle_3)\n",
    "\n",
    "x_f_new_4 = x_c + (x_f - x_c)*math.cos(angle_4) - (y_f - y_c)*math.sin(angle_4)\n",
    "y_f_new_4 = y_c + (x_f - x_c)*math.sin(angle_4) + (y_f - y_c)*math.cos(angle_4)\n",
    "\n",
    "\n",
    "freestream = Freestream(1, 4.0*numpy.pi/180)\n",
    "C_y_1 = once_more(x_m_new, y_m_new, x_f_new_1, y_f_new_1, freestream)\n",
    "C_y_2 = once_more(x_m_new, y_m_new, x_f_new_2, y_f_new_2, freestream)\n",
    "C_y_3 = once_more(x_m_new, y_m_new, x_f_new_3, y_f_new_3, freestream)\n",
    "C_y_4 = once_more(x_m_new, y_m_new, x_f_new_4, y_f_new_4, freestream)"
   ]
  },
  {
   "cell_type": "code",
   "execution_count": 24,
   "metadata": {},
   "outputs": [
    {
     "name": "stdout",
     "output_type": "stream",
     "text": [
      "0.28160696497984383 0.5873441985742753 0.8974682260442098 1.2117666634517505\n"
     ]
    }
   ],
   "source": [
    "print(C_y_1, C_y_2, C_y_3, C_y_4)"
   ]
  },
  {
   "cell_type": "code",
   "execution_count": 22,
   "metadata": {},
   "outputs": [
    {
     "data": {
      "text/plain": [
       "[<matplotlib.lines.Line2D at 0x21310ce8eb8>]"
      ]
     },
     "execution_count": 22,
     "metadata": {},
     "output_type": "execute_result"
    },
    {
     "data": {
      "image/png": "[encoded data removed]",
      "text/plain": [
       "<Figure size 432x288 with 1 Axes>"
      ]
     },
     "metadata": {},
     "output_type": "display_data"
    }
   ],
   "source": [
    "pyplot.plot(x_f_new_2,y_f_new_2)"
   ]
  },
  {
   "cell_type": "code",
   "execution_count": null,
   "metadata": {},
   "outputs": [],
   "source": []
  },
  {
   "cell_type": "code",
   "execution_count": null,
   "metadata": {},
   "outputs": [],
   "source": []
  }
 ],
 "metadata": {
  "kernelspec": {
   "display_name": "Python 3",
   "language": "python",
   "name": "python3"
  }
 },
 "nbformat": 4,
 "nbformat_minor": 2
}
