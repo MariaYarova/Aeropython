{
 "cells": [
  {
   "cell_type": "code",
   "execution_count": 1,
   "metadata": {},
   "outputs": [],
   "source": [
    "# импортируем нужные библиотеки и модули\n",
    "import os\n",
    "import numpy\n",
    "from scipy import integrate, linalg\n",
    "from matplotlib import pyplot\n",
    "\n",
    "# вставляем графику в блокнот\n",
    "%matplotlib inline"
   ]
  },
  {
   "cell_type": "code",
   "execution_count": 2,
   "metadata": {},
   "outputs": [],
   "source": [
    "# загружаем геометрию из файла с данными\n",
    "naca_filepath = os.path.join('naca0012.dat')\n",
    "with open(naca_filepath, 'r') as infile:\n",
    "    x, y = numpy.loadtxt(infile, dtype=float, unpack=True)"
   ]
  },
  {
   "cell_type": "code",
   "execution_count": 3,
   "metadata": {},
   "outputs": [
    {
     "data": {
      "image/png": "[encoded data removed]",
      "text/plain": [
       "<Figure size 720x720 with 1 Axes>"
      ]
     },
     "metadata": {},
     "output_type": "display_data"
    }
   ],
   "source": [
    "# рисуем геометрию\n",
    "width = 10\n",
    "pyplot.figure(figsize=(width, width))\n",
    "pyplot.grid()\n",
    "pyplot.xlabel('x', fontsize=16)\n",
    "pyplot.ylabel('y', fontsize=16)\n",
    "pyplot.plot(x, y, color='k', linestyle='-', linewidth=2)\n",
    "pyplot.axis('scaled', adjustable='box')\n",
    "pyplot.xlim(-0.1, 1.1)\n",
    "pyplot.ylim(-0.1, 0.1);"
   ]
  },
  {
   "cell_type": "code",
   "execution_count": 4,
   "metadata": {},
   "outputs": [],
   "source": [
    "class Panel:\n",
    "    \"\"\"\n",
    "    Contains information related to a panel.\n",
    "    \"\"\"\n",
    "    def __init__(self, xa, ya, xb, yb):\n",
    "        \"\"\"\n",
    "        Initializes the panel.\n",
    "        \n",
    "        Sets the end-points and calculates the center-point, length,\n",
    "        and angle (with the x-axis) of the panel.\n",
    "        Defines if the panel is located on the upper or lower surface of the geometry.\n",
    "        Initializes the source-strength, tangential velocity, and pressure coefficient\n",
    "        of the panel to zero.\n",
    "        \n",
    "        Parameters\n",
    "        ---------_\n",
    "        xa: float\n",
    "            x-coordinate of the first end-point.\n",
    "        ya: float\n",
    "            y-coordinate of the first end-point.\n",
    "        xb: float\n",
    "            x-coordinate of the second end-point.\n",
    "        yb: float\n",
    "            y-coordinate of the second end-point.\n",
    "        \"\"\"\n",
    "        self.xa, self.ya = xa, ya # начальная точка панели\n",
    "        self.xb, self.yb = xb, yb # конечная точка панели\n",
    "        \n",
    "        self.xc, self.yc = (xa+xb)/2, (ya+yb)/2         # центр панели\n",
    "        self.length = numpy.sqrt((xb-xa)**2+(yb-ya)**2) # длина панели\n",
    "        \n",
    "        # ориентация панели (угол между нормалью и осью x)\n",
    "        if xb-xa <= 0.0:\n",
    "            self.beta = numpy.arccos((yb-ya)/self.length)\n",
    "        elif xb-xa > 0.0:\n",
    "            self.beta = numpy.pi + numpy.arccos(-(yb-ya)/self.length)\n",
    "        \n",
    "        # расположение панели\n",
    "        if self.beta <= numpy.pi:\n",
    "            self.loc = 'upper' # верхняя поверхность\n",
    "        else:\n",
    "            self.loc = 'lower' # нижняя поверхность\n",
    "        \n",
    "        self.sigma = 0.0 # интенсивность источника\n",
    "        self.vt = 0.0    # касательная скорость\n",
    "        self.cp = 0.0    # коэффициент давления"
   ]
  },
  {
   "cell_type": "code",
   "execution_count": 5,
   "metadata": {},
   "outputs": [],
   "source": [
    "def define_panels(x, y, N):\n",
    "    \"\"\"\n",
    "    Discretizes the geometry into panels using 'cosine' method.\n",
    "    \n",
    "    Parameters\n",
    "    ----------\n",
    "    x: 1D array of floats\n",
    "        x-coordinate of the points defining the geometry.\n",
    "    y: 1D array of floats\n",
    "        y-coordinate of the points defining the geometry.\n",
    "    N: integer, optional\n",
    "        Number of panels;\n",
    "        default: 40.\n",
    "    \n",
    "    Returns\n",
    "    -------\n",
    "    panels: 1D Numpy array of Panel objects.\n",
    "        The list of panels.\n",
    "    \"\"\"\n",
    "    \n",
    "    panels = numpy.empty(N, dtype=object)\n",
    "    for i in range(N):\n",
    "        panels[i] = Panel(x[i], y[i], x[i+1], y[i+1])\n",
    "    \n",
    "    return panels"
   ]
  },
  {
   "cell_type": "code",
   "execution_count": 6,
   "metadata": {},
   "outputs": [],
   "source": [
    "# разбиваем геометрию на панели\n",
    "panels = define_panels(x, y, N=40)"
   ]
  },
  {
   "cell_type": "code",
   "execution_count": 7,
   "metadata": {},
   "outputs": [
    {
     "data": {
      "image/png": "[encoded data removed]",
      "text/plain": [
       "<Figure size 720x720 with 1 Axes>"
      ]
     },
     "metadata": {},
     "output_type": "display_data"
    }
   ],
   "source": [
    "# рисуем дискретизированую геометрию\n",
    "width = 10\n",
    "pyplot.figure(figsize=(width, width))\n",
    "pyplot.grid()\n",
    "pyplot.xlabel('x', fontsize=16)\n",
    "pyplot.ylabel('y', fontsize=16)\n",
    "pyplot.plot(x, y, color='k', linestyle='-', linewidth=2)\n",
    "pyplot.plot(numpy.append([panel.xa for panel in panels], panels[0].xa),\n",
    "            numpy.append([panel.ya for panel in panels], panels[0].ya),\n",
    "            linestyle='-', linewidth=1, marker='o', markersize=6, \\\n",
    "            color='#CD2305')\n",
    "pyplot.axis('scaled', adjustable='box')\n",
    "pyplot.xlim(-0.1, 1.1)\n",
    "pyplot.ylim(-0.1, 0.1);"
   ]
  },
  {
   "cell_type": "code",
   "execution_count": 8,
   "metadata": {},
   "outputs": [],
   "source": [
    "class Freestream:\n",
    "    \"\"\"\n",
    "    Freestream conditions.\n",
    "    \"\"\"\n",
    "    def __init__(self, u_inf=1.0, alpha=0.0):\n",
    "        \"\"\"\n",
    "        Sets the freestream speed and angle (in degrees).\n",
    "        \n",
    "        Parameters\n",
    "        ----------\n",
    "        u_inf: float, optional\n",
    "            Freestream speed;\n",
    "            default: 1.0.\n",
    "        alpha: float, optional\n",
    "            Angle of attack in degrees;\n",
    "            default 0.0.\n",
    "        \"\"\"\n",
    "        self.u_inf = u_inf\n",
    "        self.alpha = alpha*numpy.pi/180.0 # градусы в радианы"
   ]
  },
  {
   "cell_type": "code",
   "execution_count": 9,
   "metadata": {},
   "outputs": [],
   "source": [
    "# задаем параметры набегающего потока\n",
    "freestream = Freestream(u_inf=1.0, alpha=4.0)"
   ]
  },
  {
   "cell_type": "code",
   "execution_count": 10,
   "metadata": {},
   "outputs": [],
   "source": [
    "def integral(x, y, panel, dxdk, dydk):\n",
    "    \"\"\"\n",
    "    Evaluates the contribution from a panel at a given point.\n",
    "    \n",
    "    Parameters\n",
    "    ----------\n",
    "    x: float\n",
    "        x-coordinate of the target point.\n",
    "    y: float\n",
    "        y-coordinate of the target point.\n",
    "    panel: Panel object\n",
    "        Panel whose contribution is evaluated.\n",
    "    dxdk: float\n",
    "        Value of the derivative of x in a certain direction.\n",
    "    dydk: float\n",
    "        Value of the derivative of y in a certain direction.\n",
    "    \n",
    "    Returns\n",
    "    -------\n",
    "    Contribution from the panel at a given point (x, y).\n",
    "    \"\"\"\n",
    "    def integrand(s):\n",
    "        return ( ((x - (panel.xa - numpy.sin(panel.beta)*s))*dxdk\n",
    "                  +(y - (panel.ya + numpy.cos(panel.beta)*s))*dydk)\n",
    "                / ((x - (panel.xa - numpy.sin(panel.beta)*s))**2\n",
    "                   +(y - (panel.ya + numpy.cos(panel.beta)*s))**2) )\n",
    "    return integrate.quad(integrand, 0.0, panel.length)[0]"
   ]
  },
  {
   "cell_type": "code",
   "execution_count": 11,
   "metadata": {},
   "outputs": [],
   "source": [
    "def source_contribution_normal(panels):\n",
    "    \"\"\"\n",
    "    Builds the source contribution matrix for the normal velocity.\n",
    "    \n",
    "    Parameters\n",
    "    ----------\n",
    "    panels: 1D array of Panel objects\n",
    "        List of panels.\n",
    "    \n",
    "    Returns\n",
    "    -------\n",
    "    A: 2D Numpy array of floats\n",
    "        Source contribution matrix.\n",
    "    \"\"\"\n",
    "    A = numpy.empty((panels.size, panels.size), dtype=float)\n",
    "    # вклад рассматриваемой панели в общее поле источников\n",
    "    numpy.fill_diagonal(A, 0.5)\n",
    "    # вклад остальных панелей\n",
    "    for i, panel_i in enumerate(panels):\n",
    "        for j, panel_j in enumerate(panels):\n",
    "            if i != j:\n",
    "                A[i, j] = 0.5/numpy.pi*integral(panel_i.xc, panel_i.yc, \n",
    "                                                panel_j,\n",
    "                                                numpy.cos(panel_i.beta),\n",
    "                                                numpy.sin(panel_i.beta))\n",
    "    return A"
   ]
  },
  {
   "cell_type": "code",
   "execution_count": 12,
   "metadata": {},
   "outputs": [],
   "source": [
    "def vortex_contribution_normal(panels):\n",
    "    \"\"\"\n",
    "    Builds the vortex contribution matrix for the normal velocity.\n",
    "    \n",
    "    Parameters\n",
    "    ----------\n",
    "    panels: 1D array of Panel objects\n",
    "        List of panels.\n",
    "    \n",
    "    Returns\n",
    "    -------\n",
    "    A: 2D Numpy array of floats\n",
    "        Vortex contribution matrix.\n",
    "    \"\"\"\n",
    "    A = numpy.empty((panels.size, panels.size), dtype=float)\n",
    "    # вклад от рассматриваемой панели в поле вихря\n",
    "    numpy.fill_diagonal(A, 0.0)\n",
    "    # вихревой вклад от всех остальных панелей\n",
    "    for i, panel_i in enumerate(panels):\n",
    "        for j, panel_j in enumerate(panels):\n",
    "            if i != j:\n",
    "                A[i, j] = -0.5/numpy.pi*integral(panel_i.xc, panel_i.yc, \n",
    "                                                 panel_j,\n",
    "                                                 numpy.sin(panel_i.beta),\n",
    "                                                 -numpy.cos(panel_i.beta))\n",
    "    return A"
   ]
  },
  {
   "cell_type": "code",
   "execution_count": 13,
   "metadata": {},
   "outputs": [],
   "source": [
    "A_source = source_contribution_normal(panels)\n",
    "B_vortex = vortex_contribution_normal(panels)"
   ]
  },
  {
   "cell_type": "code",
   "execution_count": 14,
   "metadata": {},
   "outputs": [],
   "source": [
    "def kutta_condition(A_source, B_vortex):\n",
    "    \"\"\"\n",
    "    Builds the Kutta condition array.\n",
    "    \n",
    "    Parameters\n",
    "    ----------\n",
    "    A_source: 2D Numpy array of floats\n",
    "        Source contribution matrix for the normal velocity.\n",
    "    B_vortex: 2D Numpy array of floats\n",
    "        Vortex contribution matrix for the normal velocity.\n",
    "    \n",
    "    Returns\n",
    "    -------\n",
    "    b: 1D Numpy array of floats\n",
    "        The left-hand side of the Kutta-condition equation.\n",
    "    \"\"\"\n",
    "    b = numpy.empty(A_source.shape[0]+1, dtype=float)\n",
    "    # матрица вкладов источников в тангенциальную составляющую скорости\n",
    "    # равна\n",
    "    # матрице вкладов вихрей в нормальную составляющую скорости\n",
    "    b[:-1] = B_vortex[0, :] + B_vortex[-1, :]\n",
    "    # матрица вкладов вихрей в тангенциальную составляющую скорости\n",
    "    # противоположна по знаку\n",
    "    # матрице вкладов источников в нормальную составляющую скорости\n",
    "    b[-1] = - numpy.sum(A_source[0, :] + A_source[-1, :])\n",
    "    return b"
   ]
  },
  {
   "cell_type": "code",
   "execution_count": 15,
   "metadata": {},
   "outputs": [],
   "source": [
    "def build_singularity_matrix(A_source, B_vortex):\n",
    "    \"\"\"\n",
    "    Builds the left-hand side matrix of the system\n",
    "    arising from source and vortex contributions.\n",
    "    \n",
    "    Parameters\n",
    "    ----------\n",
    "    A_source: 2D Numpy array of floats\n",
    "        Source contribution matrix for the normal velocity.\n",
    "    B_vortex: 2D Numpy array of floats\n",
    "        Vortex contribution matrix for the normal velocity.\n",
    "    \n",
    "    Returns\n",
    "    -------\n",
    "    A:  2D Numpy array of floats\n",
    "        Matrix of the linear system.\n",
    "    \"\"\"\n",
    "    A = numpy.empty((A_source.shape[0]+1, A_source.shape[1]+1), \\\n",
    "                    dtype=float)\n",
    "    # матрица источников\n",
    "    A[:-1, :-1] = A_source\n",
    "    # матрица вихрей\n",
    "    A[:-1, -1] = numpy.sum(B_vortex, axis=1)\n",
    "    # условие Кутты-Жуковского\n",
    "    A[-1, :] = kutta_condition(A_source, B_vortex)\n",
    "    return A"
   ]
  },
  {
   "cell_type": "code",
   "execution_count": 16,
   "metadata": {},
   "outputs": [],
   "source": [
    "def build_freestream_rhs(panels, freestream):\n",
    "    \"\"\"\n",
    "    Builds the right-hand side of the system \n",
    "    arising from the freestream contribution.\n",
    "    \n",
    "    Parameters\n",
    "    ----------\n",
    "    panels: 1D array of Panel objects\n",
    "        List of panels.\n",
    "    freestream: Freestream object\n",
    "        Freestream conditions.\n",
    "    \n",
    "    Returns\n",
    "    -------\n",
    "    b: 1D Numpy array of floats\n",
    "        Freestream contribution on each panel and on the Kutta condition.\n",
    "    \"\"\"\n",
    "    b = numpy.empty(panels.size+1,dtype=float)\n",
    "    # вклад от набегающего потока в каждую панель\n",
    "    for i, panel in enumerate(panels):\n",
    "        b[i] = -freestream.u_inf * numpy.cos(freestream.alpha - panel.beta)\n",
    "    # вклад от набегающего потока в условие Кутты-Жуковского\n",
    "    b[-1] = -freestream.u_inf*( numpy.sin(freestream.alpha-panels[0].beta)\n",
    "                               +numpy.sin(freestream.alpha-panels[-1].beta) )\n",
    "    return b"
   ]
  },
  {
   "cell_type": "code",
   "execution_count": 17,
   "metadata": {},
   "outputs": [],
   "source": [
    "A = build_singularity_matrix(A_source, B_vortex)\n",
    "b = build_freestream_rhs(panels, freestream)"
   ]
  },
  {
   "cell_type": "code",
   "execution_count": 18,
   "metadata": {},
   "outputs": [],
   "source": [
    "\n",
    "# рассчитываем интенсивности источников и вихря\n",
    "strengths = numpy.linalg.solve(A, b)\n",
    "\n",
    "# заполняем интенсивности на кажой панели\n",
    "for i , panel in enumerate(panels):\n",
    "    panel.sigma = strengths[i]\n",
    "    \n",
    "# запоминаем циркуляцию\n",
    "gamma = strengths[-1]"
   ]
  },
  {
   "cell_type": "code",
   "execution_count": 19,
   "metadata": {},
   "outputs": [],
   "source": [
    "def compute_tangential_velocity(panels, freestream, gamma, A_source, B_vortex):\n",
    "    \"\"\"\n",
    "    Computes the tangential surface velocity.\n",
    "    \n",
    "    Parameters\n",
    "    ----------\n",
    "    panels: 1D array of Panel objects\n",
    "        List of panels.\n",
    "    freestream: Freestream object\n",
    "        Freestream conditions.\n",
    "    gamma: float\n",
    "        Circulation density.\n",
    "    A_source: 2D Numpy array of floats\n",
    "        Source contribution matrix for the normal velocity.\n",
    "    B_vortex: 2D Numpy array of floats\n",
    "        Vortex contribution matrix for the normal velocity.\n",
    "    \"\"\"\n",
    "    A = numpy.empty((panels.size, panels.size+1), dtype=float)\n",
    "    # матрица вкладов источников в тангенциальную составляющую скорости\n",
    "    # равна\n",
    "    # матрице вкладов вихрей в нормальную составляющую скорости\n",
    "    A[:, :-1] = B_vortex\n",
    "    # матрица вкладов вихрей в тангенциальную составляющую скорости\n",
    "    # противоположна по знаку\n",
    "    # матрице вкладов источников в нормальную составляющую скорости\n",
    "    A[:, -1] = -numpy.sum(A_source, axis=1)\n",
    "    # добавляем набегающий поток\n",
    "    b = freestream.u_inf*numpy.sin([freestream.alpha-panel.beta \n",
    "                                    for panel in panels])\n",
    "    \n",
    "    strengths = numpy.append([panel.sigma for panel in panels], gamma)\n",
    "    \n",
    "    tangential_velocities = numpy.dot(A, strengths) + b\n",
    "    \n",
    "    for i, panel in enumerate(panels):\n",
    "        panel.vt = tangential_velocities[i]"
   ]
  },
  {
   "cell_type": "code",
   "execution_count": 20,
   "metadata": {},
   "outputs": [],
   "source": [
    "# касательная компонента скорости на каждой панели\n",
    "compute_tangential_velocity(panels, freestream, gamma, A_source, B_vortex)"
   ]
  },
  {
   "cell_type": "code",
   "execution_count": 21,
   "metadata": {},
   "outputs": [],
   "source": [
    "def compute_pressure_coefficient(panels, freestream):\n",
    "    \"\"\"\n",
    "    Computes the surface pressure coefficients.\n",
    "    \n",
    "    Parameters\n",
    "    ----------\n",
    "    panels: 1D array of Panel objects\n",
    "        List of panels.\n",
    "    freestream: Freestream object\n",
    "        Freestream conditions.\n",
    "    \"\"\"\n",
    "    for panel in panels:\n",
    "        panel.cp = 1.0 - (panel.vt/freestream.u_inf)**2"
   ]
  },
  {
   "cell_type": "code",
   "execution_count": 22,
   "metadata": {},
   "outputs": [],
   "source": [
    "# коэффициент давления на поверхности\n",
    "compute_pressure_coefficient(panels, freestream)"
   ]
  },
  {
   "cell_type": "code",
   "execution_count": 23,
   "metadata": {},
   "outputs": [
    {
     "data": {
      "image/png": "[encoded data removed]",
      "text/plain": [
       "<Figure size 720x432 with 1 Axes>"
      ]
     },
     "metadata": {},
     "output_type": "display_data"
    }
   ],
   "source": [
    "# рисуем коэффициент давления на поверхности\n",
    "pyplot.figure(figsize=(10, 6))\n",
    "pyplot.grid()\n",
    "pyplot.xlabel('$x$', fontsize=16)\n",
    "pyplot.ylabel('$C_p$', fontsize=16)\n",
    "pyplot.plot([panel.xc for panel in panels if panel.loc == 'upper'],\n",
    "            [panel.cp for panel in panels if panel.loc == 'upper'],\n",
    "            label='верхняя поверхность',\n",
    "            color='r', linestyle='-', linewidth=2, marker='o', markersize=6)\n",
    "pyplot.plot([panel.xc for panel in panels if panel.loc == 'lower'],\n",
    "            [panel.cp for panel in panels if panel.loc == 'lower'],\n",
    "            label= 'нижняя поверхность',\n",
    "            color='b', linestyle='-', linewidth=1, marker='D', markersize=6)\n",
    "pyplot.legend(loc='best', prop={'size':16})\n",
    "pyplot.xlim(-0.1, 1.1)\n",
    "pyplot.ylim(1.0, -2.0)\n",
    "pyplot.title('Число панелей: {}'.format(panels.size), fontsize=16);"
   ]
  },
  {
   "cell_type": "code",
   "execution_count": 24,
   "metadata": {},
   "outputs": [
    {
     "name": "stdout",
     "output_type": "stream",
     "text": [
      "суммарная интенсивность особенностей: -0.208810\n"
     ]
    }
   ],
   "source": [
    "# вычисляем точность\n",
    "accuracy = sum([panel.sigma*panel.length for panel in panels])\n",
    "print('суммарная интенсивность особенностей: {:0.6f}'.format(accuracy))"
   ]
  },
  {
   "cell_type": "code",
   "execution_count": 25,
   "metadata": {},
   "outputs": [
    {
     "name": "stdout",
     "output_type": "stream",
     "text": [
      "коэффициент подъемной силы: CL = -0.888\n"
     ]
    }
   ],
   "source": [
    "# вычисляем хорду и коэффициент подъемной силы\n",
    "c = abs(max(panel.xa for panel in panels)\n",
    "        - min(panel.xa for panel in panels))\n",
    "cl = (gamma*sum(panel.length for panel in panels)\n",
    "      / (0.5*freestream.u_inf*c))\n",
    "print('коэффициент подъемной силы: CL = {:0.3f}'.format(cl))"
   ]
  },
  {
   "cell_type": "code",
   "execution_count": null,
   "metadata": {},
   "outputs": [],
   "source": []
  },
  {
   "cell_type": "code",
   "execution_count": null,
   "metadata": {},
   "outputs": [],
   "source": []
  }
 ],
 "metadata": {
  "kernelspec": {
   "display_name": "Python 3",
   "language": "python",
   "name": "python3"
  },
  "language_info": {
   "codemirror_mode": {
    "name": "ipython",
    "version": 3
   },
   "file_extension": ".py",
   "mimetype": "text/x-python",
   "name": "python",
   "nbconvert_exporter": "python",
   "pygments_lexer": "ipython3",
   "version": "3.6.5"
  }
 },
 "nbformat": 4,
 "nbformat_minor": 2
}
